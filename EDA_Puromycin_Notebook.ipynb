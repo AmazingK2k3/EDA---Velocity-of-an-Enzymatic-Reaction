{
  "nbformat": 4,
  "nbformat_minor": 0,
  "metadata": {
    "colab": {
      "provenance": [],
      "authorship_tag": "ABX9TyP+b5/Q8uMOk0xRVX6yq+p7"
    },
    "kernelspec": {
      "name": "python3",
      "display_name": "Python 3"
    },
    "language_info": {
      "name": "python"
    }
  },
  "cells": [
    {
      "cell_type": "markdown",
      "source": [
        "# Reaction Velocity of an Enzymatic Reaction"
      ],
      "metadata": {
        "id": "9Jcr0xojWD2V"
      }
    },
    {
      "cell_type": "markdown",
      "source": [
        "##Data Initialization\n"
      ],
      "metadata": {
        "id": "GhgHz2ZK58Nv"
      }
    },
    {
      "cell_type": "markdown",
      "source": [
        "### *Installing Pydataset library and assigning the dataset 'Puromycin' to the variable df*\n",
        "\n",
        "\n",
        "\n",
        "\n",
        "\n",
        "\n",
        "\n",
        "\n",
        "\n",
        "\n",
        "\n",
        "\n",
        "\n"
      ],
      "metadata": {
        "id": "Zl9fE6vV0kwt"
      }
    },
    {
      "cell_type": "code",
      "execution_count": null,
      "metadata": {
        "colab": {
          "base_uri": "https://localhost:8080/"
        },
        "id": "2PqQZMB7ONFT",
        "outputId": "2252a0c0-1726-4174-db3b-354f9f6184c7"
      },
      "outputs": [
        {
          "output_type": "stream",
          "name": "stdout",
          "text": [
            "Collecting pydataset\n",
            "  Downloading pydataset-0.2.0.tar.gz (15.9 MB)\n",
            "\u001b[K     |████████████████████████████████| 15.9 MB 29.9 MB/s \n",
            "\u001b[?25hRequirement already satisfied: pandas in /usr/local/lib/python3.7/dist-packages (from pydataset) (1.3.5)\n",
            "Requirement already satisfied: python-dateutil>=2.7.3 in /usr/local/lib/python3.7/dist-packages (from pandas->pydataset) (2.8.2)\n",
            "Requirement already satisfied: pytz>=2017.3 in /usr/local/lib/python3.7/dist-packages (from pandas->pydataset) (2022.1)\n",
            "Requirement already satisfied: numpy>=1.17.3 in /usr/local/lib/python3.7/dist-packages (from pandas->pydataset) (1.21.6)\n",
            "Requirement already satisfied: six>=1.5 in /usr/local/lib/python3.7/dist-packages (from python-dateutil>=2.7.3->pandas->pydataset) (1.15.0)\n",
            "Building wheels for collected packages: pydataset\n",
            "  Building wheel for pydataset (setup.py) ... \u001b[?25l\u001b[?25hdone\n",
            "  Created wheel for pydataset: filename=pydataset-0.2.0-py3-none-any.whl size=15939432 sha256=4f07f6ce4b3bd4d4411e9aabb2cb9355cf9cacde80e4f52184314d6ffee37306\n",
            "  Stored in directory: /root/.cache/pip/wheels/32/26/30/d71562a19eed948eaada9a61b4d722fa358657a3bfb5d151e2\n",
            "Successfully built pydataset\n",
            "Installing collected packages: pydataset\n",
            "Successfully installed pydataset-0.2.0\n"
          ]
        }
      ],
      "source": [
        "pip install pydataset"
      ]
    },
    {
      "cell_type": "code",
      "source": [
        "import pydataset"
      ],
      "metadata": {
        "colab": {
          "base_uri": "https://localhost:8080/"
        },
        "id": "MgqweHW0OoJ_",
        "outputId": "94cfd77e-94fa-408c-a45b-26581d4923fd"
      },
      "execution_count": null,
      "outputs": [
        {
          "output_type": "stream",
          "name": "stdout",
          "text": [
            "initiated datasets repo at: /root/.pydataset/\n"
          ]
        }
      ]
    },
    {
      "cell_type": "code",
      "source": [
        "df = pydataset.data('Puromycin')\n",
        "df"
      ],
      "metadata": {
        "colab": {
          "base_uri": "https://localhost:8080/",
          "height": 770
        },
        "id": "ZJwWV4hhOwDp",
        "outputId": "1ea14a91-d3f3-48c0-fbd3-57c012d4f6d7"
      },
      "execution_count": null,
      "outputs": [
        {
          "output_type": "execute_result",
          "data": {
            "text/plain": [
              "    conc  rate      state\n",
              "1   0.02    76    treated\n",
              "2   0.02    47    treated\n",
              "3   0.06    97    treated\n",
              "4   0.06   107    treated\n",
              "5   0.11   123    treated\n",
              "6   0.11   139    treated\n",
              "7   0.22   159    treated\n",
              "8   0.22   152    treated\n",
              "9   0.56   191    treated\n",
              "10  0.56   201    treated\n",
              "11  1.10   207    treated\n",
              "12  1.10   200    treated\n",
              "13  0.02    67  untreated\n",
              "14  0.02    51  untreated\n",
              "15  0.06    84  untreated\n",
              "16  0.06    86  untreated\n",
              "17  0.11    98  untreated\n",
              "18  0.11   115  untreated\n",
              "19  0.22   131  untreated\n",
              "20  0.22   124  untreated\n",
              "21  0.56   144  untreated\n",
              "22  0.56   158  untreated\n",
              "23  1.10   160  untreated"
            ],
            "text/html": [
              "\n",
              "  <div id=\"df-db991355-24d6-4e35-9fb0-27cd0d73aa85\">\n",
              "    <div class=\"colab-df-container\">\n",
              "      <div>\n",
              "<style scoped>\n",
              "    .dataframe tbody tr th:only-of-type {\n",
              "        vertical-align: middle;\n",
              "    }\n",
              "\n",
              "    .dataframe tbody tr th {\n",
              "        vertical-align: top;\n",
              "    }\n",
              "\n",
              "    .dataframe thead th {\n",
              "        text-align: right;\n",
              "    }\n",
              "</style>\n",
              "<table border=\"1\" class=\"dataframe\">\n",
              "  <thead>\n",
              "    <tr style=\"text-align: right;\">\n",
              "      <th></th>\n",
              "      <th>conc</th>\n",
              "      <th>rate</th>\n",
              "      <th>state</th>\n",
              "    </tr>\n",
              "  </thead>\n",
              "  <tbody>\n",
              "    <tr>\n",
              "      <th>1</th>\n",
              "      <td>0.02</td>\n",
              "      <td>76</td>\n",
              "      <td>treated</td>\n",
              "    </tr>\n",
              "    <tr>\n",
              "      <th>2</th>\n",
              "      <td>0.02</td>\n",
              "      <td>47</td>\n",
              "      <td>treated</td>\n",
              "    </tr>\n",
              "    <tr>\n",
              "      <th>3</th>\n",
              "      <td>0.06</td>\n",
              "      <td>97</td>\n",
              "      <td>treated</td>\n",
              "    </tr>\n",
              "    <tr>\n",
              "      <th>4</th>\n",
              "      <td>0.06</td>\n",
              "      <td>107</td>\n",
              "      <td>treated</td>\n",
              "    </tr>\n",
              "    <tr>\n",
              "      <th>5</th>\n",
              "      <td>0.11</td>\n",
              "      <td>123</td>\n",
              "      <td>treated</td>\n",
              "    </tr>\n",
              "    <tr>\n",
              "      <th>6</th>\n",
              "      <td>0.11</td>\n",
              "      <td>139</td>\n",
              "      <td>treated</td>\n",
              "    </tr>\n",
              "    <tr>\n",
              "      <th>7</th>\n",
              "      <td>0.22</td>\n",
              "      <td>159</td>\n",
              "      <td>treated</td>\n",
              "    </tr>\n",
              "    <tr>\n",
              "      <th>8</th>\n",
              "      <td>0.22</td>\n",
              "      <td>152</td>\n",
              "      <td>treated</td>\n",
              "    </tr>\n",
              "    <tr>\n",
              "      <th>9</th>\n",
              "      <td>0.56</td>\n",
              "      <td>191</td>\n",
              "      <td>treated</td>\n",
              "    </tr>\n",
              "    <tr>\n",
              "      <th>10</th>\n",
              "      <td>0.56</td>\n",
              "      <td>201</td>\n",
              "      <td>treated</td>\n",
              "    </tr>\n",
              "    <tr>\n",
              "      <th>11</th>\n",
              "      <td>1.10</td>\n",
              "      <td>207</td>\n",
              "      <td>treated</td>\n",
              "    </tr>\n",
              "    <tr>\n",
              "      <th>12</th>\n",
              "      <td>1.10</td>\n",
              "      <td>200</td>\n",
              "      <td>treated</td>\n",
              "    </tr>\n",
              "    <tr>\n",
              "      <th>13</th>\n",
              "      <td>0.02</td>\n",
              "      <td>67</td>\n",
              "      <td>untreated</td>\n",
              "    </tr>\n",
              "    <tr>\n",
              "      <th>14</th>\n",
              "      <td>0.02</td>\n",
              "      <td>51</td>\n",
              "      <td>untreated</td>\n",
              "    </tr>\n",
              "    <tr>\n",
              "      <th>15</th>\n",
              "      <td>0.06</td>\n",
              "      <td>84</td>\n",
              "      <td>untreated</td>\n",
              "    </tr>\n",
              "    <tr>\n",
              "      <th>16</th>\n",
              "      <td>0.06</td>\n",
              "      <td>86</td>\n",
              "      <td>untreated</td>\n",
              "    </tr>\n",
              "    <tr>\n",
              "      <th>17</th>\n",
              "      <td>0.11</td>\n",
              "      <td>98</td>\n",
              "      <td>untreated</td>\n",
              "    </tr>\n",
              "    <tr>\n",
              "      <th>18</th>\n",
              "      <td>0.11</td>\n",
              "      <td>115</td>\n",
              "      <td>untreated</td>\n",
              "    </tr>\n",
              "    <tr>\n",
              "      <th>19</th>\n",
              "      <td>0.22</td>\n",
              "      <td>131</td>\n",
              "      <td>untreated</td>\n",
              "    </tr>\n",
              "    <tr>\n",
              "      <th>20</th>\n",
              "      <td>0.22</td>\n",
              "      <td>124</td>\n",
              "      <td>untreated</td>\n",
              "    </tr>\n",
              "    <tr>\n",
              "      <th>21</th>\n",
              "      <td>0.56</td>\n",
              "      <td>144</td>\n",
              "      <td>untreated</td>\n",
              "    </tr>\n",
              "    <tr>\n",
              "      <th>22</th>\n",
              "      <td>0.56</td>\n",
              "      <td>158</td>\n",
              "      <td>untreated</td>\n",
              "    </tr>\n",
              "    <tr>\n",
              "      <th>23</th>\n",
              "      <td>1.10</td>\n",
              "      <td>160</td>\n",
              "      <td>untreated</td>\n",
              "    </tr>\n",
              "  </tbody>\n",
              "</table>\n",
              "</div>\n",
              "      <button class=\"colab-df-convert\" onclick=\"convertToInteractive('df-db991355-24d6-4e35-9fb0-27cd0d73aa85')\"\n",
              "              title=\"Convert this dataframe to an interactive table.\"\n",
              "              style=\"display:none;\">\n",
              "        \n",
              "  <svg xmlns=\"http://www.w3.org/2000/svg\" height=\"24px\"viewBox=\"0 0 24 24\"\n",
              "       width=\"24px\">\n",
              "    <path d=\"M0 0h24v24H0V0z\" fill=\"none\"/>\n",
              "    <path d=\"M18.56 5.44l.94 2.06.94-2.06 2.06-.94-2.06-.94-.94-2.06-.94 2.06-2.06.94zm-11 1L8.5 8.5l.94-2.06 2.06-.94-2.06-.94L8.5 2.5l-.94 2.06-2.06.94zm10 10l.94 2.06.94-2.06 2.06-.94-2.06-.94-.94-2.06-.94 2.06-2.06.94z\"/><path d=\"M17.41 7.96l-1.37-1.37c-.4-.4-.92-.59-1.43-.59-.52 0-1.04.2-1.43.59L10.3 9.45l-7.72 7.72c-.78.78-.78 2.05 0 2.83L4 21.41c.39.39.9.59 1.41.59.51 0 1.02-.2 1.41-.59l7.78-7.78 2.81-2.81c.8-.78.8-2.07 0-2.86zM5.41 20L4 18.59l7.72-7.72 1.47 1.35L5.41 20z\"/>\n",
              "  </svg>\n",
              "      </button>\n",
              "      \n",
              "  <style>\n",
              "    .colab-df-container {\n",
              "      display:flex;\n",
              "      flex-wrap:wrap;\n",
              "      gap: 12px;\n",
              "    }\n",
              "\n",
              "    .colab-df-convert {\n",
              "      background-color: #E8F0FE;\n",
              "      border: none;\n",
              "      border-radius: 50%;\n",
              "      cursor: pointer;\n",
              "      display: none;\n",
              "      fill: #1967D2;\n",
              "      height: 32px;\n",
              "      padding: 0 0 0 0;\n",
              "      width: 32px;\n",
              "    }\n",
              "\n",
              "    .colab-df-convert:hover {\n",
              "      background-color: #E2EBFA;\n",
              "      box-shadow: 0px 1px 2px rgba(60, 64, 67, 0.3), 0px 1px 3px 1px rgba(60, 64, 67, 0.15);\n",
              "      fill: #174EA6;\n",
              "    }\n",
              "\n",
              "    [theme=dark] .colab-df-convert {\n",
              "      background-color: #3B4455;\n",
              "      fill: #D2E3FC;\n",
              "    }\n",
              "\n",
              "    [theme=dark] .colab-df-convert:hover {\n",
              "      background-color: #434B5C;\n",
              "      box-shadow: 0px 1px 3px 1px rgba(0, 0, 0, 0.15);\n",
              "      filter: drop-shadow(0px 1px 2px rgba(0, 0, 0, 0.3));\n",
              "      fill: #FFFFFF;\n",
              "    }\n",
              "  </style>\n",
              "\n",
              "      <script>\n",
              "        const buttonEl =\n",
              "          document.querySelector('#df-db991355-24d6-4e35-9fb0-27cd0d73aa85 button.colab-df-convert');\n",
              "        buttonEl.style.display =\n",
              "          google.colab.kernel.accessAllowed ? 'block' : 'none';\n",
              "\n",
              "        async function convertToInteractive(key) {\n",
              "          const element = document.querySelector('#df-db991355-24d6-4e35-9fb0-27cd0d73aa85');\n",
              "          const dataTable =\n",
              "            await google.colab.kernel.invokeFunction('convertToInteractive',\n",
              "                                                     [key], {});\n",
              "          if (!dataTable) return;\n",
              "\n",
              "          const docLinkHtml = 'Like what you see? Visit the ' +\n",
              "            '<a target=\"_blank\" href=https://colab.research.google.com/notebooks/data_table.ipynb>data table notebook</a>'\n",
              "            + ' to learn more about interactive tables.';\n",
              "          element.innerHTML = '';\n",
              "          dataTable['output_type'] = 'display_data';\n",
              "          await google.colab.output.renderOutput(dataTable, element);\n",
              "          const docLink = document.createElement('div');\n",
              "          docLink.innerHTML = docLinkHtml;\n",
              "          element.appendChild(docLink);\n",
              "        }\n",
              "      </script>\n",
              "    </div>\n",
              "  </div>\n",
              "  "
            ]
          },
          "metadata": {},
          "execution_count": 3
        }
      ]
    },
    {
      "cell_type": "markdown",
      "source": [
        "We can see that the Dataset \"Puromycin\" consists of three columns 'conc' , 'rate' and 'state' and 23 rows\n",
        "\n",
        "\n",
        "conc:\n",
        "   a numeric vector of substrate concentrations (ppm)\n",
        "\n",
        "rate:\n",
        "   a numeric vector of instantaneous reaction rates (counts/min/min)\n",
        "\n",
        "state:\n",
        "   a factor with levels treated untreated"
      ],
      "metadata": {
        "id": "ujyDM8cT1YBc"
      }
    },
    {
      "cell_type": "markdown",
      "source": [
        "## EDA on DataSet"
      ],
      "metadata": {
        "id": "PeoLXLmMTIH6"
      }
    },
    {
      "cell_type": "markdown",
      "source": [
        "**Carrying out the Elementary Data Analysis as specified by the project requirements**"
      ],
      "metadata": {
        "id": "AyeynzvV2ako"
      }
    },
    {
      "cell_type": "code",
      "source": [
        "# i)Finding out the shape\n",
        "df.shape"
      ],
      "metadata": {
        "colab": {
          "base_uri": "https://localhost:8080/"
        },
        "id": "65Yl6dR6TSBp",
        "outputId": "cc897377-901d-477e-8acc-0927dc3d26dd"
      },
      "execution_count": null,
      "outputs": [
        {
          "output_type": "execute_result",
          "data": {
            "text/plain": [
              "(23, 3)"
            ]
          },
          "metadata": {},
          "execution_count": 4
        }
      ]
    },
    {
      "cell_type": "code",
      "source": [
        "# ii) Finding out the dimensions\n",
        "df.ndim"
      ],
      "metadata": {
        "colab": {
          "base_uri": "https://localhost:8080/"
        },
        "id": "uu0PGCyaUALn",
        "outputId": "4a2e36c1-1ed5-491f-ce4c-59c9c030f85d"
      },
      "execution_count": null,
      "outputs": [
        {
          "output_type": "execute_result",
          "data": {
            "text/plain": [
              "2"
            ]
          },
          "metadata": {},
          "execution_count": 5
        }
      ]
    },
    {
      "cell_type": "code",
      "source": [
        "# iii) Info of dataset\n",
        "df.info"
      ],
      "metadata": {
        "colab": {
          "base_uri": "https://localhost:8080/"
        },
        "id": "qCUW14U-690f",
        "outputId": "2f6cb28a-6a86-4a10-9fd8-a9f65bb5aeae"
      },
      "execution_count": null,
      "outputs": [
        {
          "output_type": "execute_result",
          "data": {
            "text/plain": [
              "<bound method DataFrame.info of     conc  rate      state\n",
              "1   0.02    76    treated\n",
              "2   0.02    47    treated\n",
              "3   0.06    97    treated\n",
              "4   0.06   107    treated\n",
              "5   0.11   123    treated\n",
              "6   0.11   139    treated\n",
              "7   0.22   159    treated\n",
              "8   0.22   152    treated\n",
              "9   0.56   191    treated\n",
              "10  0.56   201    treated\n",
              "11  1.10   207    treated\n",
              "12  1.10   200    treated\n",
              "13  0.02    67  untreated\n",
              "14  0.02    51  untreated\n",
              "15  0.06    84  untreated\n",
              "16  0.06    86  untreated\n",
              "17  0.11    98  untreated\n",
              "18  0.11   115  untreated\n",
              "19  0.22   131  untreated\n",
              "20  0.22   124  untreated\n",
              "21  0.56   144  untreated\n",
              "22  0.56   158  untreated\n",
              "23  1.10   160  untreated>"
            ]
          },
          "metadata": {},
          "execution_count": 6
        }
      ]
    },
    {
      "cell_type": "code",
      "source": [
        "# iv) Checking if data has any missing or null values\n",
        "df.isnull().sum()"
      ],
      "metadata": {
        "colab": {
          "base_uri": "https://localhost:8080/"
        },
        "id": "y1vNQzYyTXL1",
        "outputId": "20a83657-e094-4fb6-e06f-2d970c0ed6d4"
      },
      "execution_count": null,
      "outputs": [
        {
          "output_type": "execute_result",
          "data": {
            "text/plain": [
              "conc     0\n",
              "rate     0\n",
              "state    0\n",
              "dtype: int64"
            ]
          },
          "metadata": {},
          "execution_count": 7
        }
      ]
    },
    {
      "cell_type": "code",
      "source": [
        "# v) Checking the datatype of each column\n",
        "df.dtypes"
      ],
      "metadata": {
        "colab": {
          "base_uri": "https://localhost:8080/"
        },
        "id": "xiqKwEHlTiF7",
        "outputId": "50c01e32-09d5-40e8-e47b-ffa1d314951c"
      },
      "execution_count": null,
      "outputs": [
        {
          "output_type": "execute_result",
          "data": {
            "text/plain": [
              "conc     float64\n",
              "rate       int64\n",
              "state     object\n",
              "dtype: object"
            ]
          },
          "metadata": {},
          "execution_count": 8
        }
      ]
    },
    {
      "cell_type": "code",
      "source": [
        "#Checking target variable rate,conc and state whether it is continuous or discrete\n",
        "print(df['rate'].unique()[0:23])\n",
        "print(df['state'].unique())\n",
        "print(df['conc'].unique())"
      ],
      "metadata": {
        "colab": {
          "base_uri": "https://localhost:8080/"
        },
        "id": "tuRr-fgSUEiN",
        "outputId": "edc89a17-97c6-4fa2-d321-e332962b4041"
      },
      "execution_count": null,
      "outputs": [
        {
          "output_type": "stream",
          "name": "stdout",
          "text": [
            "[ 76  47  97 107 123 139 159 152 191 201 207 200  67  51  84  86  98 115\n",
            " 131 124 144 158 160]\n",
            "['treated' 'untreated']\n",
            "[0.02 0.06 0.11 0.22 0.56 1.1 ]\n"
          ]
        }
      ]
    },
    {
      "cell_type": "markdown",
      "source": [
        "After carrying out unique commands to check out whether the variables are continuous or discrete, the observations analysed are:-\n",
        "\n",
        "\n",
        "\n",
        "1.   `Rate variable is a integer data type which is distinct and can be considered as continuous or discrete depending on bin size`\n",
        "2.   `State variable is a categorical data type which has two types 'treated' and 'untreated' and is discrete`\n",
        "3.   `Conc variable is a float data type which has only 6 different values and can be considered as discrete`\n",
        "\n",
        "\n"
      ],
      "metadata": {
        "id": "cb-MvtJ63cZy"
      }
    },
    {
      "cell_type": "code",
      "source": [
        "# Counting the categorical variable 'state'\n",
        "df['state'].value_counts()"
      ],
      "metadata": {
        "colab": {
          "base_uri": "https://localhost:8080/"
        },
        "id": "QYMb_SOjbxuW",
        "outputId": "87ca5aa1-7e50-46d2-819e-7241f39faced"
      },
      "execution_count": null,
      "outputs": [
        {
          "output_type": "execute_result",
          "data": {
            "text/plain": [
              "treated      12\n",
              "untreated    11\n",
              "Name: state, dtype: int64"
            ]
          },
          "metadata": {},
          "execution_count": 10
        }
      ]
    },
    {
      "cell_type": "code",
      "source": [
        "# vii) Statistics : Calculating the mean, median and mode\n",
        "df.mean()"
      ],
      "metadata": {
        "colab": {
          "base_uri": "https://localhost:8080/"
        },
        "id": "Kw63XgYrYv-T",
        "outputId": "4b4920b8-82ec-4f8e-b3d2-fa6e0c6e4a7a"
      },
      "execution_count": null,
      "outputs": [
        {
          "output_type": "stream",
          "name": "stderr",
          "text": [
            "/usr/local/lib/python3.7/dist-packages/ipykernel_launcher.py:2: FutureWarning: Dropping of nuisance columns in DataFrame reductions (with 'numeric_only=None') is deprecated; in a future version this will raise TypeError.  Select only valid columns before calling the reduction.\n",
            "  \n"
          ]
        },
        {
          "output_type": "execute_result",
          "data": {
            "text/plain": [
              "conc      0.312174\n",
              "rate    126.826087\n",
              "dtype: float64"
            ]
          },
          "metadata": {},
          "execution_count": 11
        }
      ]
    },
    {
      "cell_type": "code",
      "source": [
        "df.median()"
      ],
      "metadata": {
        "colab": {
          "base_uri": "https://localhost:8080/"
        },
        "id": "hDQYsIbKY2UQ",
        "outputId": "36619294-7df6-49b6-92a0-62f27a55f480"
      },
      "execution_count": null,
      "outputs": [
        {
          "output_type": "stream",
          "name": "stderr",
          "text": [
            "/usr/local/lib/python3.7/dist-packages/ipykernel_launcher.py:1: FutureWarning: Dropping of nuisance columns in DataFrame reductions (with 'numeric_only=None') is deprecated; in a future version this will raise TypeError.  Select only valid columns before calling the reduction.\n",
            "  \"\"\"Entry point for launching an IPython kernel.\n"
          ]
        },
        {
          "output_type": "execute_result",
          "data": {
            "text/plain": [
              "conc      0.11\n",
              "rate    124.00\n",
              "dtype: float64"
            ]
          },
          "metadata": {},
          "execution_count": 12
        }
      ]
    },
    {
      "cell_type": "code",
      "source": [
        "from scipy import stats as s\n",
        "s.mode(df['conc'])"
      ],
      "metadata": {
        "id": "srs6pwz3kS_P",
        "colab": {
          "base_uri": "https://localhost:8080/"
        },
        "outputId": "c4217f5f-f1a4-4a71-d1a0-a2da19548466"
      },
      "execution_count": null,
      "outputs": [
        {
          "output_type": "execute_result",
          "data": {
            "text/plain": [
              "ModeResult(mode=array([0.02]), count=array([4]))"
            ]
          },
          "metadata": {},
          "execution_count": 13
        }
      ]
    },
    {
      "cell_type": "markdown",
      "source": [
        "We can observe that only conc column of 0.02 has a mode as rate column has unique values for each row"
      ],
      "metadata": {
        "id": "QQJk7g5H6WoG"
      }
    },
    {
      "cell_type": "code",
      "source": [
        "#Checking if there is any null values in data set\n",
        "df.isnull().values.any()"
      ],
      "metadata": {
        "colab": {
          "base_uri": "https://localhost:8080/"
        },
        "id": "VBvOqS9cZQBK",
        "outputId": "3ad618a3-4898-4f58-a218-7087072cc73c"
      },
      "execution_count": null,
      "outputs": [
        {
          "output_type": "execute_result",
          "data": {
            "text/plain": [
              "False"
            ]
          },
          "metadata": {},
          "execution_count": 14
        }
      ]
    },
    {
      "cell_type": "markdown",
      "source": [
        " **viii)  Since as we found out that there is no null values, we dont need to replace the null values with 0 or the mean in the dataset**"
      ],
      "metadata": {
        "id": "OnwFYo166tRq"
      }
    },
    {
      "cell_type": "code",
      "source": [
        "# ix) Finding unique values of each coloumn\n",
        "df['rate'].unique()"
      ],
      "metadata": {
        "colab": {
          "base_uri": "https://localhost:8080/"
        },
        "id": "g2GgFwhYbPbQ",
        "outputId": "6c875b6f-319c-4b36-db27-101cbbb1c260"
      },
      "execution_count": null,
      "outputs": [
        {
          "output_type": "execute_result",
          "data": {
            "text/plain": [
              "array([ 76,  47,  97, 107, 123, 139, 159, 152, 191, 201, 207, 200,  67,\n",
              "        51,  84,  86,  98, 115, 131, 124, 144, 158, 160])"
            ]
          },
          "metadata": {},
          "execution_count": 15
        }
      ]
    },
    {
      "cell_type": "code",
      "source": [
        "df['conc'].unique()"
      ],
      "metadata": {
        "colab": {
          "base_uri": "https://localhost:8080/"
        },
        "id": "nDVgiO0bcIn2",
        "outputId": "850301ea-6f55-4670-ef52-fb988ecf3979"
      },
      "execution_count": null,
      "outputs": [
        {
          "output_type": "execute_result",
          "data": {
            "text/plain": [
              "array([0.02, 0.06, 0.11, 0.22, 0.56, 1.1 ])"
            ]
          },
          "metadata": {},
          "execution_count": 16
        }
      ]
    },
    {
      "cell_type": "code",
      "source": [
        "df['state'].unique()"
      ],
      "metadata": {
        "colab": {
          "base_uri": "https://localhost:8080/"
        },
        "id": "p2599BdADCN5",
        "outputId": "af88f2fd-bd6d-4dc8-f6fd-19615cd07e7b"
      },
      "execution_count": null,
      "outputs": [
        {
          "output_type": "execute_result",
          "data": {
            "text/plain": [
              "array(['treated', 'untreated'], dtype=object)"
            ]
          },
          "metadata": {},
          "execution_count": 17
        }
      ]
    },
    {
      "cell_type": "markdown",
      "source": [
        "## Data Visualisation"
      ],
      "metadata": {
        "id": "yO6XV-TcDCnA"
      }
    },
    {
      "cell_type": "code",
      "source": [
        "import matplotlib.pyplot as plt\n",
        "import seaborn as sns\n",
        "sns.set_theme(style=\"whitegrid\")"
      ],
      "metadata": {
        "id": "7KxSZvzYcLtC"
      },
      "execution_count": null,
      "outputs": []
    },
    {
      "cell_type": "markdown",
      "source": [
        "Plotting a basic scatter plot from matploitlib to get a general idea of the split of data, with x axis being **concentration** and y axis being the **rate**"
      ],
      "metadata": {
        "id": "NvrehqtoKI95"
      }
    },
    {
      "cell_type": "code",
      "source": [
        "\n",
        "plt.scatter(df.conc, df.rate)"
      ],
      "metadata": {
        "colab": {
          "base_uri": "https://localhost:8080/",
          "height": 285
        },
        "id": "bdy4pzqyORTb",
        "outputId": "3abec9dc-5dd9-4403-f698-603fd92f69e9"
      },
      "execution_count": null,
      "outputs": [
        {
          "output_type": "execute_result",
          "data": {
            "text/plain": [
              "<matplotlib.collections.PathCollection at 0x7f5201ad3ed0>"
            ]
          },
          "metadata": {},
          "execution_count": 19
        },
        {
          "output_type": "display_data",
          "data": {
            "text/plain": [
              "<Figure size 432x288 with 1 Axes>"
            ],
            "image/png": "[encoded data removed]"
          },
          "metadata": {}
        }
      ]
    },
    {
      "cell_type": "markdown",
      "source": [
        "**Plotting Boxplots and Violinplots of the conc and rate column to get an idea about their distribution (symmetric and density wise) and to check for outliers**"
      ],
      "metadata": {
        "id": "Nxx-eIjBKZxQ"
      }
    },
    {
      "cell_type": "code",
      "source": [
        "#BOXPLOT of conc and rate\n",
        "fig,ax=plt.subplots(1,2, figsize=(10,5))\n",
        "ax[0].boxplot(df['conc'])\n",
        "ax[0].set_xlabel(\"Conc\")\n",
        "ax[1].boxplot(df['rate'])\n",
        "ax[1].set_xlabel(\"Rate\")\n",
        "\n",
        "plt.show()"
      ],
      "metadata": {
        "id": "myn73IIn3n-c",
        "colab": {
          "base_uri": "https://localhost:8080/",
          "height": 339
        },
        "outputId": "8f6e1d48-4b68-4d2b-bd45-1c5f176d1171"
      },
      "execution_count": null,
      "outputs": [
        {
          "output_type": "display_data",
          "data": {
            "text/plain": [
              "<Figure size 720x360 with 2 Axes>"
            ],
            "image/png": "[encoded data removed]"
          },
          "metadata": {}
        }
      ]
    },
    {
      "cell_type": "code",
      "source": [
        "#VIOLINPLOT of conc and rate\n",
        "fig,ax=plt.subplots(1,2, figsize=(10,5))\n",
        "ax[0].violinplot(df['conc'])\n",
        "ax[0].set_xlabel(\"Conc\")\n",
        "ax[1].violinplot(df['rate'])\n",
        "ax[1].set_xlabel(\"Rate\")\n",
        "\n",
        "plt.show()\n"
      ],
      "metadata": {
        "id": "fKz5Z32f4RBR",
        "colab": {
          "base_uri": "https://localhost:8080/",
          "height": 339
        },
        "outputId": "eb559eac-ca52-43a3-d857-83b1b0300c2f"
      },
      "execution_count": null,
      "outputs": [
        {
          "output_type": "display_data",
          "data": {
            "text/plain": [
              "<Figure size 720x360 with 2 Axes>"
            ],
            "image/png": "[encoded data removed]"
          },
          "metadata": {}
        }
      ]
    },
    {
      "cell_type": "markdown",
      "source": [
        "From the Boxplot and the Violinplot of both the conc and rate columns, we can see that the -\n",
        "\n",
        "\n",
        "\n",
        "*   Both the columns do not posses any outliers\n",
        "*   Conc has a quartile range lying between approx 0.1 to 0.5 having a higher density in that space spefifically from 0.0 to 0.2 gradually decreasing as concentration value increases. The median is slightly towards the left in 1.0.\n",
        "*   Rate has a uniform distribution with density lying in the middle around 120 and the quartile range being from 90 to 155\n",
        "\n",
        "\n",
        "\n",
        "\n",
        "\n",
        "\n"
      ],
      "metadata": {
        "id": "uZFpC8Vt-K1t"
      }
    },
    {
      "cell_type": "markdown",
      "source": [
        "**Plotting Pairplot and Joint Plot to understand more about the data , checking whether we could get any plausible results to Analyse**"
      ],
      "metadata": {
        "id": "kgG3BdZLDsRz"
      }
    },
    {
      "cell_type": "code",
      "source": [
        "sns.pairplot(data = df, hue='state')"
      ],
      "metadata": {
        "colab": {
          "base_uri": "https://localhost:8080/",
          "height": 389
        },
        "id": "lNflkLlHP8e1",
        "outputId": "c12104ef-3abc-422d-b617-7d40b97c2217"
      },
      "execution_count": null,
      "outputs": [
        {
          "output_type": "execute_result",
          "data": {
            "text/plain": [
              "<seaborn.axisgrid.PairGrid at 0x7f52013e8810>"
            ]
          },
          "metadata": {},
          "execution_count": 22
        },
        {
          "output_type": "display_data",
          "data": {
            "text/plain": [
              "<Figure size 454.1x360 with 6 Axes>"
            ],
            "image/png": "[encoded data removed]"
          },
          "metadata": {}
        }
      ]
    },
    {
      "cell_type": "code",
      "source": [
        "sns.jointplot(\"conc\",\"rate\", data=df, hue='state')"
      ],
      "metadata": {
        "colab": {
          "base_uri": "https://localhost:8080/",
          "height": 509
        },
        "id": "gbD9QT60S9LV",
        "outputId": "76c49479-754b-40d1-eeb8-6eb963fefd07"
      },
      "execution_count": null,
      "outputs": [
        {
          "output_type": "stream",
          "name": "stderr",
          "text": [
            "/usr/local/lib/python3.7/dist-packages/seaborn/_decorators.py:43: FutureWarning: Pass the following variables as keyword args: x, y. From version 0.12, the only valid positional argument will be `data`, and passing other arguments without an explicit keyword will result in an error or misinterpretation.\n",
            "  FutureWarning\n"
          ]
        },
        {
          "output_type": "execute_result",
          "data": {
            "text/plain": [
              "<seaborn.axisgrid.JointGrid at 0x7f52012da050>"
            ]
          },
          "metadata": {},
          "execution_count": 24
        },
        {
          "output_type": "display_data",
          "data": {
            "text/plain": [
              "<Figure size 432x432 with 3 Axes>"
            ],
            "image/png": "[encoded data removed]"
          },
          "metadata": {}
        }
      ]
    },
    {
      "cell_type": "markdown",
      "source": [
        "From the two plots , we can observe that there is a clear increase in rate or reaction velocity as concentration increases. From using the hue parameter we can see that Enzymes treated with Puromycin have a greater increase in rate when compared to enzymes not treated with Puromycin."
      ],
      "metadata": {
        "id": "4N9ADR1emOSm"
      }
    },
    {
      "cell_type": "markdown",
      "source": [
        "** Plotting Barplot and Pointplot to get a greater understanding in change of rate vs concentration**"
      ],
      "metadata": {
        "id": "9zI1kFhzvteO"
      }
    },
    {
      "cell_type": "code",
      "source": [
        "#Plotting a barplot to visually view the difference in rate for concentration between treated and untreated\n",
        "sns.barplot(x=df.conc, y=df.rate, data=df, hue = 'state')"
      ],
      "metadata": {
        "colab": {
          "base_uri": "https://localhost:8080/",
          "height": 302
        },
        "id": "UmMwy-QLT_Qa",
        "outputId": "989bd875-75ed-4113-ab80-8f55f6d68de6"
      },
      "execution_count": null,
      "outputs": [
        {
          "output_type": "execute_result",
          "data": {
            "text/plain": [
              "<matplotlib.axes._subplots.AxesSubplot at 0x7f51fc745e10>"
            ]
          },
          "metadata": {},
          "execution_count": 25
        },
        {
          "output_type": "display_data",
          "data": {
            "text/plain": [
              "<Figure size 432x288 with 1 Axes>"
            ],
            "image/png": "[encoded data removed]"
          },
          "metadata": {}
        }
      ]
    },
    {
      "cell_type": "code",
      "source": [
        "sns.pointplot(x=df.conc, y=df.rate, data=df, hue='state')"
      ],
      "metadata": {
        "colab": {
          "base_uri": "https://localhost:8080/",
          "height": 302
        },
        "id": "OQzBDUe3afDs",
        "outputId": "168be2a2-e245-468d-a08b-f615f9d0008d"
      },
      "execution_count": null,
      "outputs": [
        {
          "output_type": "execute_result",
          "data": {
            "text/plain": [
              "<matplotlib.axes._subplots.AxesSubplot at 0x7f51fc671c50>"
            ]
          },
          "metadata": {},
          "execution_count": 26
        },
        {
          "output_type": "display_data",
          "data": {
            "text/plain": [
              "<Figure size 432x288 with 1 Axes>"
            ],
            "image/png": "[encoded data removed]"
          },
          "metadata": {}
        }
      ]
    },
    {
      "cell_type": "markdown",
      "source": [
        "We can clearly observe from the aobve two and the previous plots that --\n",
        "\n",
        "\n",
        "\n",
        "1.   The Reaction rate (Rate coloumn) of an enzyme reaction increases as the concentration (conc column) increases\n",
        "2.   The Reaction rate of an enzyme increases at a higher rate as the concentration is increased when it is treated with Puromycin as opposed to when its not.\n",
        "\n",
        "\n",
        "Overall, using this data we can clearly analyse the impact of the chemical Puromycin on enzymatic reactions and reaction velocity of such reactions, Further detailed analysis could be carried out by making specific mathematical models such as\n",
        "\n"
      ],
      "metadata": {
        "id": "SN5fLAPKwxjy"
      }
    }
  ]
}